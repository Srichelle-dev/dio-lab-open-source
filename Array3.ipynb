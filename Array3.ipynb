{
  "nbformat": 4,
  "nbformat_minor": 0,
  "metadata": {
    "colab": {
      "provenance": [],
      "include_colab_link": true
    },
    "kernelspec": {
      "name": "python3",
      "display_name": "Python 3"
    },
    "language_info": {
      "name": "python"
    }
  },
  "cells": [
    {
      "cell_type": "markdown",
      "metadata": {
        "id": "view-in-github",
        "colab_type": "text"
      },
      "source": [
        "<a href=\"https://colab.research.google.com/github/Srichelle-dev/dio-lab-open-source/blob/main/Array3.ipynb\" target=\"_parent\"><img src=\"https://colab.research.google.com/assets/colab-badge.svg\" alt=\"Open In Colab\"/></a>"
      ]
    },
    {
      "cell_type": "code",
      "execution_count": null,
      "metadata": {
        "id": "j1Hp6fwuA43W",
        "outputId": "e22d113b-3192-4a52-859c-e05b0026c00c",
        "colab": {
          "base_uri": "https://localhost:8080/"
        }
      },
      "outputs": [
        {
          "output_type": "stream",
          "name": "stdout",
          "text": [
            "Temos máscaras faciais à venda!\n",
            "Temos batons à venda!\n",
            "Temos esmaltes à venda!\n",
            "Temos perfumes à venda!\n",
            "Temos loções à venda!\n",
            "Temos xampus à venda!\n",
            "Temos sabonetes à venda!\n",
            "Temos delineadores à venda!\n"
          ]
        }
      ],
      "source": [
        "# Array com os produtos da loja de cosméticos\n",
        "lista_produtos = ['máscaras faciais', 'batons', 'esmaltes', 'perfumes', 'loções', 'xampus', 'sabonetes', 'delineadores']\n",
        "\n",
        "for produto in lista_produtos:\n",
        "    print(f\"Temos {produto} à venda!\")\n"
      ]
    }
  ]
}