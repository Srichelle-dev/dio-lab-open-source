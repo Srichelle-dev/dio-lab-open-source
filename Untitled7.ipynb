{
  "nbformat": 4,
  "nbformat_minor": 0,
  "metadata": {
    "colab": {
      "provenance": [],
      "authorship_tag": "ABX9TyMROmYpPu9hhTFwHE/E9D7s",
      "include_colab_link": true
    },
    "kernelspec": {
      "name": "python3",
      "display_name": "Python 3"
    },
    "language_info": {
      "name": "python"
    }
  },
  "cells": [
    {
      "cell_type": "markdown",
      "metadata": {
        "id": "view-in-github",
        "colab_type": "text"
      },
      "source": [
        "<a href=\"https://colab.research.google.com/github/Srichelle-dev/dio-lab-open-source/blob/main/Untitled7.ipynb\" target=\"_parent\"><img src=\"https://colab.research.google.com/assets/colab-badge.svg\" alt=\"Open In Colab\"/></a>"
      ]
    },
    {
      "cell_type": "code",
      "execution_count": 2,
      "metadata": {
        "colab": {
          "base_uri": "https://localhost:8080/"
        },
        "id": "tQJ10TKs2YPS",
        "outputId": "f014e4fa-1476-4b52-8873-6677fa689a4c"
      },
      "outputs": [
        {
          "output_type": "stream",
          "name": "stdout",
          "text": [
            "<bound method Random.randint of <random.Random object at 0x56e647da6870>>\n",
            "7\n",
            "10\n",
            "3\n",
            "3\n",
            "9\n",
            "8\n",
            "9\n",
            "8\n",
            "3\n",
            "10\n",
            "8\n",
            "10\n",
            "3\n",
            "7\n",
            "3\n",
            "1\n",
            "3\n",
            "6\n",
            "9\n",
            "7\n",
            "6\n",
            "3\n"
          ]
        }
      ],
      "source": [
        "//import random\n",
        "\n",
        "numero = random.randint\n",
        "while(numero != 5):\n",
        "  print(numero)\n",
        "  numero = random.randint(1,10)//"
      ]
    },
    {
      "cell_type": "code",
      "source": [
        "for numero in range(21):\n",
        "    if numero != 13:\n",
        "        print(numero)"
      ],
      "metadata": {
        "colab": {
          "base_uri": "https://localhost:8080/"
        },
        "id": "c_LQItuM5l_q",
        "outputId": "15efbc00-22d7-4731-b0e9-0036dcf51586"
      },
      "execution_count": 3,
      "outputs": [
        {
          "output_type": "stream",
          "name": "stdout",
          "text": [
            "0\n",
            "1\n",
            "2\n",
            "3\n",
            "4\n",
            "5\n",
            "6\n",
            "7\n",
            "8\n",
            "9\n",
            "10\n",
            "11\n",
            "12\n",
            "14\n",
            "15\n",
            "16\n",
            "17\n",
            "18\n",
            "19\n",
            "20\n"
          ]
        }
      ]
    },
    {
      "cell_type": "code",
      "source": [
        "numero = 20\n",
        "\n",
        "while numero >= 0:\n",
        "    if numero != 13:\n",
        "        print(numero)\n",
        "    numero -= 1"
      ],
      "metadata": {
        "colab": {
          "base_uri": "https://localhost:8080/"
        },
        "id": "0oEwcAFA6eJO",
        "outputId": "5156ede6-9407-4b2b-a610-29aad9cd5c12"
      },
      "execution_count": 4,
      "outputs": [
        {
          "output_type": "stream",
          "name": "stdout",
          "text": [
            "20\n",
            "19\n",
            "18\n",
            "17\n",
            "16\n",
            "15\n",
            "14\n",
            "12\n",
            "11\n",
            "10\n",
            "9\n",
            "8\n",
            "7\n",
            "6\n",
            "5\n",
            "4\n",
            "3\n",
            "2\n",
            "1\n",
            "0\n"
          ]
        }
      ]
    },
    {
      "cell_type": "code",
      "source": [
        "numero = 20\n",
        "\n",
        "while True:\n",
        "    if numero != 13:\n",
        "        print(numero)\n",
        "    numero -= 1\n",
        "    if numero < 0:\n",
        "        break"
      ],
      "metadata": {
        "colab": {
          "base_uri": "https://localhost:8080/"
        },
        "id": "unsFj14v6uqO",
        "outputId": "f6e1c8e9-a522-4c30-b749-916190234b71"
      },
      "execution_count": 5,
      "outputs": [
        {
          "output_type": "stream",
          "name": "stdout",
          "text": [
            "20\n",
            "19\n",
            "18\n",
            "17\n",
            "16\n",
            "15\n",
            "14\n",
            "12\n",
            "11\n",
            "10\n",
            "9\n",
            "8\n",
            "7\n",
            "6\n",
            "5\n",
            "4\n",
            "3\n",
            "2\n",
            "1\n",
            "0\n"
          ]
        }
      ]
    }
  ]
}