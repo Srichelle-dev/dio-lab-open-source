{
  "nbformat": 4,
  "nbformat_minor": 0,
  "metadata": {
    "colab": {
      "provenance": [],
      "authorship_tag": "ABX9TyNAYrBp9AHARDHer2+jvBwv",
      "include_colab_link": true
    },
    "kernelspec": {
      "name": "python3",
      "display_name": "Python 3"
    },
    "language_info": {
      "name": "python"
    }
  },
  "cells": [
    {
      "cell_type": "markdown",
      "metadata": {
        "id": "view-in-github",
        "colab_type": "text"
      },
      "source": [
        "<a href=\"https://colab.research.google.com/github/Srichelle-dev/dio-lab-open-source/blob/main/Untitled7.ipynb\" target=\"_parent\"><img src=\"https://colab.research.google.com/assets/colab-badge.svg\" alt=\"Open In Colab\"/></a>"
      ]
    },
    {
      "cell_type": "code",
      "execution_count": 7,
      "metadata": {
        "colab": {
          "base_uri": "https://localhost:8080/"
        },
        "id": "tQJ10TKs2YPS",
        "outputId": "6a8a1395-a8e9-4774-d4d2-1361ef4afdf5"
      },
      "outputs": [
        {
          "output_type": "stream",
          "name": "stdout",
          "text": [
            "<bound method Random.randint of <random.Random object at 0x5afdf1fdf870>>\n",
            "10\n",
            "1\n",
            "1\n",
            "7\n",
            "9\n",
            "10\n"
          ]
        }
      ],
      "source": [
        "import random\n",
        "\n",
        "numero = random.randint\n",
        "while(numero != 5):\n",
        "  print(numero)\n",
        "  numero = random.randint(1,10)"
      ]
    },
    {
      "cell_type": "code",
      "source": [
        "def aprovacao (nota1, nota2, nota3):\n",
        "  soma = (10 + 10 + 9)/3\n",
        "  if (media >= 7):\n",
        "    res = \"Aprovado\"\n",
        "  else:\n",
        "    res = \"Reprovado\"\n",
        "    return res"
      ],
      "metadata": {
        "id": "GMiMDQcl8MrU"
      },
      "execution_count": 10,
      "outputs": []
    },
    {
      "cell_type": "code",
      "source": [
        "def calculadora(num1, num2, operacao):\n",
        "    \"\"\"\n",
        "    Realiza uma operação matemática entre dois números.\n",
        "\n",
        "    Args:\n",
        "        num1 (int ou float): Primeiro número da operação.\n",
        "        num2 (int ou float): Segundo número da operação.\n",
        "        operacao (int): Código da operação a ser realizada:\n",
        "            1: Soma\n",
        "            2: Subtração\n",
        "            3: Multiplicação\n",
        "            4: Divisão\n",
        "\n",
        "    Returns:\n",
        "        float: Resultado da operação ou 0 caso a operação seja inválida.\n",
        "    \"\"\"\n",
        "\n",
        "    if operacao == 1:\n",
        "        return num1 + num2\n",
        "    elif operacao == 2:\n",
        "        return num1 - num2\n",
        "    elif operacao == 3:\n",
        "        return num1 * num2\n",
        "    elif operacao == 4:\n",
        "        if num2 == 0:\n",
        "            print(\"Divisão por zero não é permitida.\")\n",
        "            return 0\n",
        "        else:\n",
        "            return num1 / num2\n",
        "    else:\n",
        "        print(\"Operação inválida.\")\n",
        "        return 0\n",
        "\n",
        "# Exemplo de uso:\n",
        "resultado = calculadora(10, 0, 4)\n",
        "print(resultado)  # Saída: 50"
      ],
      "metadata": {
        "colab": {
          "base_uri": "https://localhost:8080/"
        },
        "id": "xsR1rQBAAttD",
        "outputId": "fad6bd03-d348-4423-9def-916e6fa148bc"
      },
      "execution_count": 14,
      "outputs": [
        {
          "output_type": "stream",
          "name": "stdout",
          "text": [
            "Divisão por zero não é permitida.\n",
            "0\n"
          ]
        }
      ]
    },
    {
      "cell_type": "code",
      "source": [
        "for numero in range(21):\n",
        "    if numero != 13:\n",
        "        print(numero)"
      ],
      "metadata": {
        "colab": {
          "base_uri": "https://localhost:8080/"
        },
        "id": "c_LQItuM5l_q",
        "outputId": "15efbc00-22d7-4731-b0e9-0036dcf51586"
      },
      "execution_count": null,
      "outputs": [
        {
          "output_type": "stream",
          "name": "stdout",
          "text": [
            "0\n",
            "1\n",
            "2\n",
            "3\n",
            "4\n",
            "5\n",
            "6\n",
            "7\n",
            "8\n",
            "9\n",
            "10\n",
            "11\n",
            "12\n",
            "14\n",
            "15\n",
            "16\n",
            "17\n",
            "18\n",
            "19\n",
            "20\n"
          ]
        }
      ]
    },
    {
      "cell_type": "code",
      "source": [
        "numero = 20\n",
        "\n",
        "while numero >= 0:\n",
        "    if numero != 13:\n",
        "        print(numero)\n",
        "    numero -= 1"
      ],
      "metadata": {
        "colab": {
          "base_uri": "https://localhost:8080/"
        },
        "id": "0oEwcAFA6eJO",
        "outputId": "5156ede6-9407-4b2b-a610-29aad9cd5c12"
      },
      "execution_count": null,
      "outputs": [
        {
          "output_type": "stream",
          "name": "stdout",
          "text": [
            "20\n",
            "19\n",
            "18\n",
            "17\n",
            "16\n",
            "15\n",
            "14\n",
            "12\n",
            "11\n",
            "10\n",
            "9\n",
            "8\n",
            "7\n",
            "6\n",
            "5\n",
            "4\n",
            "3\n",
            "2\n",
            "1\n",
            "0\n"
          ]
        }
      ]
    },
    {
      "cell_type": "code",
      "source": [
        "\"\"\"No exemplo, há um código simples, que pega o valor passado no parâmetro  e\n",
        "retorna seus números antecessor e sucessor.\n",
        "Perceba o uso da vírgula no retorno da função e no\n",
        "resultado do código principal.\"\"\"\n",
        "\n",
        "def ant_e_suc(num):\n",
        "  ant = num - 1\n",
        "  suc = num + 1\n",
        "  return ant, suc\n",
        "\n",
        "antecessor, sucessor = ant_e_suc(21)\n",
        "print(antecessor)\n",
        "print(sucessor)"
      ],
      "metadata": {
        "colab": {
          "base_uri": "https://localhost:8080/"
        },
        "id": "kzKgTdGkz9gC",
        "outputId": "42cc363d-b904-45d9-a737-340f3cf6c765"
      },
      "execution_count": 3,
      "outputs": [
        {
          "output_type": "stream",
          "name": "stdout",
          "text": [
            "20\n",
            "22\n"
          ]
        }
      ]
    },
    {
      "cell_type": "code",
      "source": [
        "def operacao (num_lim , incre):\n",
        "  contador = 10\n",
        "  for i in range (0, num_lim, incre):\n",
        "    contador = contador +1\n",
        "    return contador"
      ],
      "metadata": {
        "id": "8rmTW0i03BSZ"
      },
      "execution_count": 6,
      "outputs": []
    },
    {
      "cell_type": "code",
      "source": [
        "numero = 20\n",
        "\n",
        "while True:\n",
        "    if numero != 13:\n",
        "        print(numero)\n",
        "    numero -= 1\n",
        "    if numero < 0:\n",
        "        break"
      ],
      "metadata": {
        "id": "unsFj14v6uqO",
        "outputId": "f6e1c8e9-a522-4c30-b749-916190234b71",
        "colab": {
          "base_uri": "https://localhost:8080/"
        }
      },
      "execution_count": null,
      "outputs": [
        {
          "output_type": "stream",
          "name": "stdout",
          "text": [
            "20\n",
            "19\n",
            "18\n",
            "17\n",
            "16\n",
            "15\n",
            "14\n",
            "12\n",
            "11\n",
            "10\n",
            "9\n",
            "8\n",
            "7\n",
            "6\n",
            "5\n",
            "4\n",
            "3\n",
            "2\n",
            "1\n",
            "0\n"
          ]
        }
      ]
    }
  ]
}