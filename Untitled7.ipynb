{
  "cells": [
    {
      "cell_type": "markdown",
      "metadata": {
        "id": "view-in-github",
        "colab_type": "text"
      },
      "source": [
        "<a href=\"https://colab.research.google.com/github/Srichelle-dev/dio-lab-open-source/blob/main/Untitled7.ipynb\" target=\"_parent\"><img src=\"https://colab.research.google.com/assets/colab-badge.svg\" alt=\"Open In Colab\"/></a>"
      ]
    },
    {
      "cell_type": "code",
      "execution_count": null,
      "metadata": {
        "colab": {
          "base_uri": "https://localhost:8080/"
        },
        "id": "tQJ10TKs2YPS",
        "outputId": "6a8a1395-a8e9-4774-d4d2-1361ef4afdf5"
      },
      "outputs": [
        {
          "name": "stdout",
          "output_type": "stream",
          "text": [
            "<bound method Random.randint of <random.Random object at 0x5afdf1fdf870>>\n",
            "10\n",
            "1\n",
            "1\n",
            "7\n",
            "9\n",
            "10\n"
          ]
        }
      ],
      "source": [
        "import random\n",
        "\n",
        "numero = random.randint\n",
        "while(numero != 5):\n",
        "  print(numero)\n",
        "  numero = random.randint(1,10)"
      ]
    },
    {
      "cell_type": "code",
      "execution_count": null,
      "metadata": {
        "id": "GMiMDQcl8MrU"
      },
      "outputs": [],
      "source": [
        "def aprovacao (nota1, nota2, nota3):\n",
        "  soma = (10 + 10 + 9)/3\n",
        "  if (media >= 7):\n",
        "    res = \"Aprovado\"\n",
        "  else:\n",
        "    res = \"Reprovado\"\n",
        "    return res"
      ]
    },
    {
      "cell_type": "code",
      "execution_count": null,
      "metadata": {
        "colab": {
          "base_uri": "https://localhost:8080/"
        },
        "id": "xsR1rQBAAttD",
        "outputId": "cd8ce5a1-7b1a-4dda-8995-5dddfb9f6d3f"
      },
      "outputs": [
        {
          "name": "stdout",
          "output_type": "stream",
          "text": [
            "50\n"
          ]
        }
      ],
      "source": [
        "def calculadora(num1, num2, operacao):\n",
        "    \"\"\"\n",
        "    Realiza uma operação matemática entre dois números.\n",
        "\n",
        "    Args:\n",
        "        num1 (int ou float): Primeiro número da operação.\n",
        "        num2 (int ou float): Segundo número da operação.\n",
        "        operacao (int): Código da operação a ser realizada:\n",
        "            1: Soma\n",
        "            2: Subtração\n",
        "            3: Multiplicação\n",
        "            4: Divisão\n",
        "            5: Sair\n",
        "\n",
        "    Returns:\n",
        "        float: Resultado da operação ou 0 caso a operação seja inválida.\n",
        "    \"\"\"\n",
        "\n",
        "    if operacao == 1:\n",
        "        return num1 + num2\n",
        "    elif operacao == 2:\n",
        "        return num1 - num2\n",
        "    elif operacao == 3:\n",
        "        return num1 * num2\n",
        "    elif operacao == 4:\n",
        "        if num2 == 0:\n",
        "            print(\"Divisão por zero não é permitida.\")\n",
        "            return 0\n",
        "        else:\n",
        "            return num1 / num2\n",
        "\n",
        "\n",
        "    else:\n",
        "        print(\"Operação inválida.\")\n",
        "        return 0\n",
        "\n",
        "# Exemplo de uso:\n",
        "resultado = calculadora(10, 5, 3)\n",
        "print(resultado)  # Saída: 50"
      ]
    },
    {
      "cell_type": "code",
      "execution_count": null,
      "metadata": {
        "colab": {
          "base_uri": "https://localhost:8080/"
        },
        "id": "c_LQItuM5l_q",
        "outputId": "15efbc00-22d7-4731-b0e9-0036dcf51586"
      },
      "outputs": [
        {
          "name": "stdout",
          "output_type": "stream",
          "text": [
            "0\n",
            "1\n",
            "2\n",
            "3\n",
            "4\n",
            "5\n",
            "6\n",
            "7\n",
            "8\n",
            "9\n",
            "10\n",
            "11\n",
            "12\n",
            "14\n",
            "15\n",
            "16\n",
            "17\n",
            "18\n",
            "19\n",
            "20\n"
          ]
        }
      ],
      "source": [
        "for numero in range(21):\n",
        "    if numero != 13:\n",
        "        print(numero)"
      ]
    },
    {
      "cell_type": "code",
      "execution_count": null,
      "metadata": {
        "colab": {
          "base_uri": "https://localhost:8080/"
        },
        "id": "0oEwcAFA6eJO",
        "outputId": "5156ede6-9407-4b2b-a610-29aad9cd5c12"
      },
      "outputs": [
        {
          "name": "stdout",
          "output_type": "stream",
          "text": [
            "20\n",
            "19\n",
            "18\n",
            "17\n",
            "16\n",
            "15\n",
            "14\n",
            "12\n",
            "11\n",
            "10\n",
            "9\n",
            "8\n",
            "7\n",
            "6\n",
            "5\n",
            "4\n",
            "3\n",
            "2\n",
            "1\n",
            "0\n"
          ]
        }
      ],
      "source": [
        "numero = 20\n",
        "\n",
        "while numero >= 0:\n",
        "    if numero != 13:\n",
        "        print(numero)\n",
        "    numero -= 1"
      ]
    },
    {
      "cell_type": "code",
      "execution_count": null,
      "metadata": {
        "colab": {
          "base_uri": "https://localhost:8080/"
        },
        "id": "kzKgTdGkz9gC",
        "outputId": "42cc363d-b904-45d9-a737-340f3cf6c765"
      },
      "outputs": [
        {
          "name": "stdout",
          "output_type": "stream",
          "text": [
            "20\n",
            "22\n"
          ]
        }
      ],
      "source": [
        "\"\"\"No exemplo, há um código simples, que pega o valor passado no parâmetro  e\n",
        "retorna seus números antecessor e sucessor.\n",
        "Perceba o uso da vírgula no retorno da função e no\n",
        "resultado do código principal.\"\"\"\n",
        "\n",
        "def ant_e_suc(num):\n",
        "  ant = num - 1\n",
        "  suc = num + 1\n",
        "  return ant, suc\n",
        "\n",
        "antecessor, sucessor = ant_e_suc(21)\n",
        "print(antecessor)\n",
        "print(sucessor)"
      ]
    },
    {
      "cell_type": "code",
      "execution_count": null,
      "metadata": {
        "id": "8rmTW0i03BSZ"
      },
      "outputs": [],
      "source": [
        "def operacao (num_lim , incre):\n",
        "  contador = 10\n",
        "  for i in range (0, num_lim, incre):\n",
        "    contador = contador +1\n",
        "    return contador"
      ]
    },
    {
      "cell_type": "code",
      "execution_count": null,
      "metadata": {
        "colab": {
          "base_uri": "https://localhost:8080/"
        },
        "id": "unsFj14v6uqO",
        "outputId": "f6e1c8e9-a522-4c30-b749-916190234b71"
      },
      "outputs": [
        {
          "name": "stdout",
          "output_type": "stream",
          "text": [
            "20\n",
            "19\n",
            "18\n",
            "17\n",
            "16\n",
            "15\n",
            "14\n",
            "12\n",
            "11\n",
            "10\n",
            "9\n",
            "8\n",
            "7\n",
            "6\n",
            "5\n",
            "4\n",
            "3\n",
            "2\n",
            "1\n",
            "0\n"
          ]
        }
      ],
      "source": [
        "numero = 20\n",
        "\n",
        "while True:\n",
        "    if numero != 13:\n",
        "        print(numero)\n",
        "    numero -= 1\n",
        "    if numero < 0:\n",
        "        break"
      ]
    },
    {
      "cell_type": "code",
      "execution_count": null,
      "metadata": {
        "colab": {
          "base_uri": "https://localhost:8080/"
        },
        "id": "YwdcESIu7Q9M",
        "outputId": "db9f1e5b-4e1e-43fc-f893-9ff05b839cbc"
      },
      "outputs": [
        {
          "name": "stdout",
          "output_type": "stream",
          "text": [
            "Escolha uma operação:\n",
            "1: Soma\n",
            "2: Subtração\n",
            "3: Multiplicação\n",
            "4: Divisão\n",
            "0: Sair\n",
            "Digite o número da operação: 0\n",
            "Saindo...\n"
          ]
        }
      ],
      "source": [
        "\"\"\"Criando uma Calculadora em Python\n",
        "Entendendo o problema:\n",
        "\n",
        "1. O programa deve apresentar um menu de opções.\n",
        "2. O usuário escolhe a operação.\n",
        "3. O usuário insere os números.\n",
        "4. O programa realiza a operação e mostra o resultado.\n",
        "5. O programa repete o processo até o usuário escolher sair.\"\"\"\n",
        "\n",
        "while True:\n",
        "    print(\"Escolha uma operação:\")\n",
        "    print(\"1: Soma\")\n",
        "    print(\"2: Subtração\")\n",
        "    print(\"3: Multiplicação\")\n",
        "    print(\"4: Divisão\")\n",
        "    print(\"0: Sair\")\n",
        "\n",
        "    opcao = input(\"Digite o número da operação: \")\n",
        "\n",
        "    if opcao == '0':\n",
        "        print(\"Saindo...\")\n",
        "        break\n",
        "\n",
        "    if opcao not in ['1', '2', '3', '4']:\n",
        "        print(\"Essa opção não existe.\")\n",
        "        continue\n",
        "\n",
        "    num1 = float(input(\"Digite o primeiro número: \"))\n",
        "    num2 = float(input(\"Digite o segundo número: \"))\n",
        "\n",
        "    if opcao == '1':\n",
        "        resultado = num1 + num2\n",
        "        print(\"Resultado da soma:\", resultado)\n",
        "    elif opcao == '2':\n",
        "        resultado = num1 - num2\n",
        "        print(\"Resultado da subtração:\", resultado)\n",
        "    elif opcao == '3':\n",
        "        resultado = num1 * num2\n",
        "        print(\"Resultado da multiplicação:\", resultado)\n",
        "    elif opcao == '4':\n",
        "        if num2 == 0:\n",
        "            print(\"Divisão por zero não é permitida.\")\n",
        "        else:\n",
        "            resultado = num1 / num2\n",
        "            print(\"Resultado da divisão:\", resultado)"
      ]
    },
    {
      "cell_type": "code",
      "execution_count": null,
      "metadata": {
        "colab": {
          "base_uri": "https://localhost:8080/"
        },
        "id": "g1vQKXMEG9Nm",
        "outputId": "42886fce-a546-46d2-abba-5c0d5918975b"
      },
      "outputs": [
        {
          "name": "stdout",
          "output_type": "stream",
          "text": [
            "Insira um número par\n",
            "7\n",
            "Você digitou um número impar\n",
            "Insira um número par\n",
            "6\n",
            "Você digitou um numero par !\n"
          ]
        }
      ],
      "source": [
        "numeroCorreto = False\n",
        "\n",
        "while (numeroCorreto == False):\n",
        "\n",
        "   print(\"Insira um número par\")\n",
        "\n",
        "   try:\n",
        "\n",
        "       numero = int(input())\n",
        "\n",
        "       if (numero%2 == 0):\n",
        "\n",
        "           numeroCorreto = True\n",
        "\n",
        "           print(\"Você digitou um numero par !\")\n",
        "\n",
        "       else :\n",
        "\n",
        "           print(\"Você digitou um número impar\")\n",
        "\n",
        "   except:\n",
        "\n",
        "       print(\"Caracter inválido, por favor digite um número par\")"
      ]
    },
    {
      "cell_type": "code",
      "execution_count": null,
      "metadata": {
        "colab": {
          "background_save": true,
          "base_uri": "https://localhost:8080/"
        },
        "id": "wSasxvijMyed",
        "outputId": "2253bf9d-66d8-4199-c872-ceda31ba157c"
      },
      "outputs": [
        {
          "name": "stdout",
          "output_type": "stream",
          "text": [
            "programa IMC\n",
            "Digite o seu peso:\n",
            "Digite sua altura\n",
            "Dados incorretos\n",
            "finalizado\n",
            "Digite o seu peso:\n",
            "Digite sua altura\n",
            "Dados incorretos\n",
            "finalizado\n",
            "Digite o seu peso:\n",
            "Digite sua altura\n",
            "Dados incorretos\n",
            "finalizado\n",
            "Digite o seu peso:\n",
            "Digite sua altura\n",
            "Dados incorretos\n",
            "finalizado\n",
            "Digite o seu peso:\n",
            "Dados incorretos\n",
            "finalizado\n",
            "Digite o seu peso:\n",
            "Dados incorretos\n",
            "finalizado\n",
            "Digite o seu peso:\n"
          ]
        }
      ],
      "source": [
        "print(\"programa IMC\")\n",
        "rodar = True\n",
        "while (rodar):\n",
        "  try:\n",
        "    print (\"Digite o seu peso:\")\n",
        "    peso = float(input())\n",
        "    print(\"Digite sua altura\")\n",
        "    alt = float(input())\n",
        "    imc = imc_function(peso,alt)\n",
        "    print(imc)\n",
        "    rodar =False\n",
        "  except:\n",
        "      print (\"Dados incorretos\")\n",
        "      print(\"finalizado\")\n"
      ]
    },
    {
      "cell_type": "code",
      "source": [
        "import datetime\n",
        "\n",
        "def calcular_idade():\n",
        "    while True:\n",
        "        nome = input(\"Digite seu nome completo: \")\n",
        "        ano_nascimento = input(\"Digite seu ano de nascimento (entre 1922 e 2025): \")\n",
        "\n",
        "        try:\n",
        "            ano_nascimento = int(ano_nascimento)\n",
        "            if 1922 <= ano_nascimento <= 2025:\n",
        "                idade = 2025 - ano_nascimento\n",
        "                print(f\"{nome}, você tem {idade} anos.\")\n",
        "                break\n",
        "            else:\n",
        "                print(\"Ano de nascimento inválido. Digite um valor entre 1922 e 2025.\")\n",
        "        except ValueError:\n",
        "            print(\"Você não digitou um número válido para o ano de nascimento.\")\n",
        "\n",
        "# Chamando a função\n",
        "calcular_idade()"
      ],
      "metadata": {
        "colab": {
          "base_uri": "https://localhost:8080/"
        },
        "id": "-9JxSKbLHYFN",
        "outputId": "9f724948-38b0-4204-db30-29e449ab8786"
      },
      "execution_count": 3,
      "outputs": [
        {
          "output_type": "stream",
          "name": "stdout",
          "text": [
            "Digite seu nome completo: sidney\n",
            "Digite seu ano de nascimento (entre 1922 e 2025): 1979\n",
            "sidney, você tem 46 anos.\n"
          ]
        }
      ]
    },
    {
      "cell_type": "code",
      "source": [
        "import datetime\n",
        "\n",
        "def calcular_idade():\n",
        "    while True:\n",
        "        nome = input(\"Digite seu nome completo: \")\n",
        "        while not nome.isalpha():\n",
        "            print(\"Digite apenas letras para o nome.\")\n",
        "            nome = input(\"Digite seu nome completo: \")\n",
        "\n",
        "        ano_nascimento = input(\"Digite seu ano de nascimento (entre 1922 e 2021): \")\n",
        "        try:\n",
        "            ano_nascimento = int(ano_nascimento)\n",
        "            if 1922 <= ano_nascimento <= datetime.date.today().year:\n",
        "                idade = datetime.date.today().year - ano_nascimento\n",
        "                print(f\"{nome}, você nasceu em {ano_nascimento} e completará {idade} anos em {datetime.date.today().year}.\")\n",
        "                break\n",
        "            else:\n",
        "                print(\"Ano de nascimento inválido. Digite um valor entre 1922 e o ano atual.\")\n",
        "        except ValueError:\n",
        "            print(\"Você não digitou um número válido para o ano de nascimento.\")\n",
        "\n",
        "calcular_idade()"
      ],
      "metadata": {
        "colab": {
          "base_uri": "https://localhost:8080/"
        },
        "id": "csmrC8UuH8w8",
        "outputId": "8eaddbb4-6803-477c-f3db-0dd9417e644e"
      },
      "execution_count": 4,
      "outputs": [
        {
          "output_type": "stream",
          "name": "stdout",
          "text": [
            "Digite seu nome completo: sidney\n",
            "Digite seu ano de nascimento (entre 1922 e 2021): 1979\n",
            "sidney, você nasceu em 1979 e completará 46 anos em 2025.\n"
          ]
        }
      ]
    }
  ],
  "metadata": {
    "colab": {
      "provenance": [],
      "authorship_tag": "ABX9TyMTQZxAl3SU+Y8sYEjjZJCZ",
      "include_colab_link": true
    },
    "kernelspec": {
      "display_name": "Python 3",
      "name": "python3"
    },
    "language_info": {
      "name": "python"
    }
  },
  "nbformat": 4,
  "nbformat_minor": 0
}